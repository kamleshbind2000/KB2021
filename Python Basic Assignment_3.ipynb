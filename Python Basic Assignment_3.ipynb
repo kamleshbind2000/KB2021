{
 "cells": [
  {
   "cell_type": "raw",
   "metadata": {},
   "source": [
    "1. Why are functions advantageous to have in your programs?\n",
    "\n",
    "Solution :  Functions reduce the need for duplicate code. This makes programs shorter, easier to read, and easier to update.  A function call is what moves the program execution into the function, and the function call evaluates to the function's return value."
   ]
  },
  {
   "cell_type": "raw",
   "metadata": {},
   "source": [
    "2. When does the code in a function run: when it's specified or when it's called?\n",
    "\n",
    "Solution : The code in a function run  when is it called.  However, the function need to be specified before the 1st use of the function."
   ]
  },
  {
   "cell_type": "raw",
   "metadata": {},
   "source": [
    "3. What statement creates a function?\n",
    "\n",
    "Solution :  A function is created with the def keyword. The statements in the block of the function must be indented. The def keyword is followed by the function name with round brackets and a colon.\n",
    "\n",
    "e.g : \n",
    "            \n",
    "i = []\n",
    "\n",
    "def get_name() :                         # defining the function get_name()\n",
    "    i = input (\"pls enter your name \")\n",
    "    print(i)\n",
    "    \n",
    " get_name()                              # calling the get_name() function"
   ]
  },
  {
   "cell_type": "raw",
   "metadata": {},
   "source": [
    "4. What is the difference between a function and a function call?\n",
    "\n",
    "Solution :  \n",
    "\n",
    "a.  The difference between the function and function call is -  A function is procedure to achieve a particular result while function call is using this function to achive that task.\n",
    "     \n",
    "   A function call means invoking or calling that function. Unless a function is called there is no use of that function.\n",
    "\n",
    "or \n",
    "\n",
    "b.  A function consists of the def statement and the code in its def clause.\n",
    "  A function call is what moves the program execution into the function, and the function call evaluates to the function’s return value.\n"
   ]
  },
  {
   "cell_type": "raw",
   "metadata": {},
   "source": [
    "5. How many global scopes are there in a Python program? How many local scopes?\n",
    "\n",
    "Solution : \n",
    "\n",
    "a.  There's only one global Python scope per program execution. This scope remains in existence until the program terminates and all its names are forgotten.\n",
    "\n",
    "b. There can be one or more than one Local scope. Local scope is a characteristic of variables that makes them local (i.e., the variable name is only bound to its value within a scope which is not the global scope)\n",
    "\n",
    "\n",
    "There is one global scope, and a local scope is created whenever a function is called.\n"
   ]
  },
  {
   "cell_type": "raw",
   "metadata": {},
   "source": [
    "6. What happens to variables in a local scope when the function call returns?\n",
    "\n",
    "Solution : \n",
    "\n",
    "When the execution of the function terminates (returns), the local variables are destroyed.\n",
    "So it is not possible for a function to set some local variable to a value, complete its execution, and then when it is called again next time, recover the local variable.\n",
    "\n",
    "When a function returns, the local scope is destroyed, and all the variables in it are forgotten.\n"
   ]
  },
  {
   "cell_type": "raw",
   "metadata": {},
   "source": [
    "7. What is the concept of a return value? Is it possible to have a return value in an expression?\n",
    "\n",
    "Solution : \n",
    "\n",
    "a. A return is a value that a function returns to the calling script or function when it completes its task. A return value can be any one of the four variable types: handle, integer, object, or string.\n",
    "\n",
    "b. Yes . A return value is a part of an expression. If return is  defined out side the function, it will give error while executing the expression\n",
    "\n",
    "\n",
    "A return value is the value that a function call evaluates to. Like any value, a return value can be used as part of an expression."
   ]
  },
  {
   "cell_type": "raw",
   "metadata": {},
   "source": [
    "8. If a function does not have a return statement, what is the return value of a call to that function?\n",
    "\n",
    "Solution :\n",
    "\n",
    "The python return statement is used in a function to return something to the caller program. We can use the return statement inside a function only. In Python, every function returns something. \n",
    "\n",
    "If there are no return statements, then its return value is None."
   ]
  },
  {
   "cell_type": "raw",
   "metadata": {},
   "source": [
    "9. How do you make a function variable refer to the global variable?\n",
    "\n",
    "Solution : \n",
    "\n",
    "A global statement will force a variable in a function to refer to the global variable.\n",
    "\n",
    "If you want to refer to a global variable in a function, you can use the global keyword to declare which variables are global."
   ]
  },
  {
   "cell_type": "raw",
   "metadata": {},
   "source": [
    "10. What is the data type of None?\n",
    "\n",
    "Solution :\n",
    "\n",
    "The data type of None is NoneType.\n",
    "\n",
    "The None keyword is used to define a null value, or no value at all. None is not the same as 0, False, or an empty string. None is a data type of its own (NoneType) and only None can be None."
   ]
  },
  {
   "cell_type": "raw",
   "metadata": {},
   "source": [
    "11. What does the sentence import areallyourpetsnamederic do?\n",
    "\n",
    "Solution :\n",
    "\n",
    "That import statement imports a module named areallyourpetsnamederic. (This isn’t a real Python module, by the way.)\n"
   ]
  },
  {
   "cell_type": "raw",
   "metadata": {},
   "source": [
    "12. If you had a bacon() feature in a spam module, what would you call it after importing spam?\n",
    "\n",
    "Solution : This function can be called with spam.bacon().\n"
   ]
  },
  {
   "cell_type": "raw",
   "metadata": {},
   "source": [
    "13. What can you do to save a programme from crashing if it encounters an error?\n",
    "\n",
    "Solution :  \n",
    "\n",
    "   To avoid such a scenario, there are two methods to handle Python exceptions:\n",
    "i . try –  Place the line of code that might cause an error in a try clause. This method catches the exceptions raised by the program.\n",
    "ii. raise – Triggers an exception manually using custom exceptions."
   ]
  },
  {
   "cell_type": "raw",
   "metadata": {},
   "source": [
    "14. What is the purpose of the try clause? What is the purpose of the except clause?\n",
    "\n",
    "Solution : \n",
    "\n",
    "i.  try Clause : The try statement allows you to define a block of code to be tested for errors while it is being executed.\n",
    "The code that could potentially cause an error goes in the try clause.\n",
    "\n",
    "ii. except clause : except statement catches an exception. It is used to test code for an error which is written in the “try” statement. If an error is encountered, the contents of the “except” block are run. The code that executes if an error happens goes in the except clause.\n",
    "\n",
    "\n",
    "The try and except block in Python is used to catch and handle exceptions. Python executes code following the try statement as a “normal” part of the program. The code that follows the except statement is the program's response to any exceptions in the preceding try clause.\n"
   ]
  }
 ],
 "metadata": {
  "kernelspec": {
   "display_name": "Python 3",
   "language": "python",
   "name": "python3"
  },
  "language_info": {
   "codemirror_mode": {
    "name": "ipython",
    "version": 3
   },
   "file_extension": ".py",
   "mimetype": "text/x-python",
   "name": "python",
   "nbconvert_exporter": "python",
   "pygments_lexer": "ipython3",
   "version": "3.7.6"
  }
 },
 "nbformat": 4,
 "nbformat_minor": 4
}
