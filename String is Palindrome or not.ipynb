{
 "cells": [
  {
   "cell_type": "code",
   "execution_count": 1,
   "metadata": {},
   "outputs": [
    {
     "name": "stdout",
     "output_type": "stream",
     "text": [
      "kamlesh\n",
      "kamlesh\n"
     ]
    }
   ],
   "source": [
    "a = input()\n",
    "b = a\n",
    "\n",
    "print(b)"
   ]
  },
  {
   "cell_type": "code",
   "execution_count": 2,
   "metadata": {},
   "outputs": [
    {
     "name": "stdout",
     "output_type": "stream",
     "text": [
      "hi\n",
      "hi\n"
     ]
    }
   ],
   "source": [
    "a = input()\n",
    "b = a\n",
    "\n",
    "print(b)"
   ]
  },
  {
   "cell_type": "code",
   "execution_count": 3,
   "metadata": {},
   "outputs": [
    {
     "name": "stdout",
     "output_type": "stream",
     "text": [
      "eye\n",
      "is Palindrome\n"
     ]
    }
   ],
   "source": [
    "# check whether the give string is Palindrome or not\n",
    "\n",
    "s = input()\n",
    "v = s[::-1]\n",
    "\n",
    "if s == v :\n",
    "    print(\"is Palindrome\")\n",
    "else:\n",
    "    print(\"is not a Palindrome\")"
   ]
  },
  {
   "cell_type": "code",
   "execution_count": 4,
   "metadata": {},
   "outputs": [
    {
     "name": "stdout",
     "output_type": "stream",
     "text": [
      "kamlesh\n",
      "is not a Palindrome\n"
     ]
    }
   ],
   "source": [
    "# check whether the give string is Palindrome or not\n",
    "\n",
    "s = input()\n",
    "v = s[::-1]\n",
    "\n",
    "if s == v :\n",
    "    print(\"is Palindrome\")\n",
    "else:\n",
    "    print(\"is not a Palindrome\")"
   ]
  },
  {
   "cell_type": "code",
   "execution_count": 5,
   "metadata": {},
   "outputs": [
    {
     "name": "stdout",
     "output_type": "stream",
     "text": [
      "is Palindrome   eye\n"
     ]
    }
   ],
   "source": [
    "# check wheter a string is Palindrome or not ,  wiht hard coded\n",
    "\n",
    "a = \"eye\"\n",
    "b = a[::-1]\n",
    "\n",
    "if a == b :\n",
    "    print(\"is Palindrome  \", a)\n",
    "else:\n",
    "    print(\"is not a Palindrome \", a)"
   ]
  },
  {
   "cell_type": "code",
   "execution_count": 6,
   "metadata": {},
   "outputs": [
    {
     "name": "stdout",
     "output_type": "stream",
     "text": [
      "is not a Palindrome  kamlesh\n"
     ]
    }
   ],
   "source": [
    "# check wheter a string is Palindrome or not \n",
    "\n",
    "a = \"kamlesh\"\n",
    "b = a[::-1]\n",
    "\n",
    "if a == b :\n",
    "    print(\"is Palindrome  \", a)\n",
    "else:\n",
    "    print(\"is not a Palindrome \", a)"
   ]
  },
  {
   "cell_type": "code",
   "execution_count": null,
   "metadata": {},
   "outputs": [],
   "source": []
  }
 ],
 "metadata": {
  "kernelspec": {
   "display_name": "Python 3",
   "language": "python",
   "name": "python3"
  },
  "language_info": {
   "codemirror_mode": {
    "name": "ipython",
    "version": 3
   },
   "file_extension": ".py",
   "mimetype": "text/x-python",
   "name": "python",
   "nbconvert_exporter": "python",
   "pygments_lexer": "ipython3",
   "version": "3.7.6"
  }
 },
 "nbformat": 4,
 "nbformat_minor": 4
}
