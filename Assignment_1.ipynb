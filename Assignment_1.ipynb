{
 "cells": [
  {
   "cell_type": "raw",
   "metadata": {},
   "source": [
    "1. In the below elements which of them are values or an expression? \n",
    "eg:- values can be integer or string and expressions will be mathematical operators.\n",
    "\n",
    "Solution :\n",
    "           a. Values                : 'hello', -87.8 , 6  .\n",
    "           b. Expression / operator :  * , - , / , +"
   ]
  },
  {
   "cell_type": "raw",
   "metadata": {},
   "source": [
    "2. What is the difference between string and variable?\n",
    "\n",
    "Solution :\n",
    "         a. String   : String is a collection of alphabets, words or other characters. And  are surrounded by either single                        quotation marks, or double quotation marks. e.g.  \"Hello\"  or 'Hello'\n",
    "         b. variable : Variable is a name that is used to refer to memory location. Python variable is also known as an                            identifier and used to hold value.\n",
    "                       e.g.  x = 5 .   here x is variable\n",
    "                     "
   ]
  },
  {
   "cell_type": "raw",
   "metadata": {},
   "source": [
    "3. Describe three different data types.\n",
    "\n",
    "Solution : Data types \n",
    "    a. String (str) : String is a collection of alphabets, words or other characters. And  are surrounded by either single                        quotation marks, or double quotation marks. e.g.  \"Hello\"  or 'Hello'\n",
    "    b. Integer(int) : Integers are zero, positive or negative whole numbers without a fractional part \n",
    "                      e.g. 0, 100, -10\n",
    "    c. Float (float) : Float are numbers with decimals. e.g 10.11 , 5.09\n",
    "                   "
   ]
  },
  {
   "cell_type": "raw",
   "metadata": {},
   "source": [
    "4. What is an expression made up of? What do all expressions do?\n",
    "\n",
    "Solution : \n",
    "           a. Expression are made up of diffrent types of operators like : \n",
    "               i.   Arithmetic operators (* , +, - , / , %,**) , \n",
    "               ii.  Assignment operators (=, += , -=, /=, %=)\n",
    "               iii. Comparison Operators (==, !=, <, > , >=, <=)\n",
    "               iv.  Logical Operators    (and , or , not)\n",
    "               v.   Identity Operators   (is , is not)\n",
    "               vi.  Membership operators (in , not in )\n",
    "               vii. Bitwise Operators    (& , OR, XOR , NOT)\n",
    "           b.  Expression are used to perform mathematical compution on the given data values or variables.\n"
   ]
  },
  {
   "cell_type": "raw",
   "metadata": {},
   "source": [
    "5. This assignment statements, like spam = 10. What is the difference between an expression and a statement?\n",
    "\n",
    "Solution : Evaluation of an expression always Produces or returns a result value. Execution of a statement may or may not              produces or displays a result value, it only does whatever the statement says.\n",
    "     "
   ]
  },
  {
   "cell_type": "raw",
   "metadata": {},
   "source": [
    "6. After running the following code, what does the variable bacon contain?\n",
    "bacon = 22\n",
    "bacon + 1\n",
    "\n",
    "Solution :  variable bacon contain - 22 "
   ]
  },
  {
   "cell_type": "raw",
   "metadata": {},
   "source": [
    "7. What should the values of the following two terms be?\n",
    "'spam' + 'spamspam'\n",
    "'spam' * 3\n",
    "\n",
    "Solution : \n",
    "    a.  'spam' + 'spamspam'  :  'spamspamspam'\n",
    "    b.  'spam' * 3           :  'spamspamspam'"
   ]
  },
  {
   "cell_type": "raw",
   "metadata": {},
   "source": [
    "8. Why is eggs a valid variable name while 100 is invalid?\n",
    "\n",
    "Solution : eggs is a name/charater which can hold a valued.  100 is a integer and hence it cant hold any other value. \n",
    "           if we use 100 as a variable , python will through error as \"can't assign to literal\" . "
   ]
  },
  {
   "cell_type": "raw",
   "metadata": {},
   "source": [
    "9. What three functions can be used to get the integer, floating-point number, or string version of a value?\n",
    "\n",
    "Solution :  consider a = 100 \n",
    "    a.  int(a)   >>  100\n",
    "    b.  float(a) >>  100.0\n",
    "    c.  str(a)   >>  '100'"
   ]
  },
  {
   "cell_type": "raw",
   "metadata": {},
   "source": [
    "10. Why does this expression cause an error? How can you fix it?\n",
    "'I have eaten ' + 99 + ' burritos.'\n",
    "\n",
    "\n",
    "Solution : a. The above expression can only concatenate str (not \"int\") to str. Since , along with string , 99 is integer,               this cause error.\n",
    "           b.  convert 99 to a string by '99' .   \n",
    "           \n",
    "           'I have eaten ' + '99' + ' burritos.'    >>> 'I have eaten 99 burritos.'\n",
    "           \n",
    "           \n",
    "      "
   ]
  }
 ],
 "metadata": {
  "kernelspec": {
   "display_name": "Python 3",
   "language": "python",
   "name": "python3"
  },
  "language_info": {
   "codemirror_mode": {
    "name": "ipython",
    "version": 3
   },
   "file_extension": ".py",
   "mimetype": "text/x-python",
   "name": "python",
   "nbconvert_exporter": "python",
   "pygments_lexer": "ipython3",
   "version": "3.7.6"
  }
 },
 "nbformat": 4,
 "nbformat_minor": 4
}
