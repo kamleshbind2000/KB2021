{
 "cells": [
  {
   "cell_type": "code",
   "execution_count": 2,
   "metadata": {},
   "outputs": [],
   "source": [
    "# Q 1. you have to write a func which will take string and return a len of \n",
    "\n",
    "it without using a inbuilt fun len\n",
    "\n",
    "def len_func() :\n",
    "    count = 0\n",
    "    a = input(\"enter the string\")\n",
    "    \n",
    "    for i in a:\n",
    "        count = count+1\n",
    "    return \"lenght of string is\", count"
   ]
  },
  {
   "cell_type": "code",
   "execution_count": 3,
   "metadata": {},
   "outputs": [
    {
     "name": "stdout",
     "output_type": "stream",
     "text": [
      "enter the stringhappy new year 2022\n"
     ]
    },
    {
     "data": {
      "text/plain": [
       "('lenght of string is', 19)"
      ]
     },
     "execution_count": 3,
     "metadata": {},
     "output_type": "execute_result"
    }
   ],
   "source": [
    "# call the len_func()\n",
    "\n",
    "len_func()"
   ]
  },
  {
   "cell_type": "code",
   "execution_count": 9,
   "metadata": {},
   "outputs": [],
   "source": [
    "# Q2 . write a fun which will be able to print an index of all premitive element which you will pass \n",
    "\n",
    "def get_input() :\n",
    "    \n",
    "    a = input()\n",
    "  \n",
    "    \n",
    "    for i in range(0,len(a)) :\n",
    "        print(\"index is \" , i ,\" for element \",  a[i])"
   ]
  },
  {
   "cell_type": "code",
   "execution_count": 10,
   "metadata": {},
   "outputs": [
    {
     "name": "stdout",
     "output_type": "stream",
     "text": [
      "kaml\n",
      "index is  0  for element  k\n",
      "index is  1  for element  a\n",
      "index is  2  for element  m\n",
      "index is  3  for element  l\n"
     ]
    }
   ],
   "source": [
    "get_input()"
   ]
  },
  {
   "cell_type": "code",
   "execution_count": 11,
   "metadata": {},
   "outputs": [
    {
     "name": "stdout",
     "output_type": "stream",
     "text": [
      "100\n",
      "index is  0  for element  1\n",
      "index is  1  for element  0\n",
      "index is  2  for element  0\n"
     ]
    }
   ],
   "source": [
    "get_input()"
   ]
  },
  {
   "cell_type": "code",
   "execution_count": 12,
   "metadata": {},
   "outputs": [],
   "source": [
    "# Q 3. write a func , which will take input as Dictionary and Output as a list of all the values , even in case of 2 level of nesting it should work\n",
    "\n",
    "test1 = {\"key1\" : 1, \"key2\":{\"a\" : 2, \"b\" : 3}, \"key3\" : (4,5,6), \"key4\" : [7,8,9] , \"key5\" : {11,12,13,14} , \"key6\" : \"kaml\" , \"key7\" : 4+5j }"
   ]
  },
  {
   "cell_type": "code",
   "execution_count": 13,
   "metadata": {},
   "outputs": [
    {
     "name": "stdout",
     "output_type": "stream",
     "text": [
      "[1, 2, 3, 4, 5, 6, 7, 8, 9, 11, 12, 13, 14, 'kaml', 4.0]\n"
     ]
    }
   ],
   "source": [
    "z = []\n",
    "\n",
    "for i in test1.values() :\n",
    "    if type (i) == int :\n",
    "        z.append(i)\n",
    "    elif type (i) == list :\n",
    "        for j in i :\n",
    "            z.append(j)\n",
    "    elif type (i) == tuple :\n",
    "        for j in i :\n",
    "            z.append(j)\n",
    "    elif type (i) == set :\n",
    "        for j in i :\n",
    "            z.append(j)\n",
    "    elif type (i) == dict :\n",
    "        for j in i.values():\n",
    "            z.append(j)\n",
    "    elif type (i) == str :\n",
    "        z.append(i)\n",
    "    elif type (i) == complex :\n",
    "        z.append(i.real)\n",
    "print(z)"
   ]
  },
  {
   "cell_type": "code",
   "execution_count": 15,
   "metadata": {},
   "outputs": [],
   "source": [
    "def get_input() :\n",
    "\n",
    "    for i in test1.values() :\n",
    "        if type (i) == int :\n",
    "            z.append(i)\n",
    "        elif type (i) == list :\n",
    "            for j in i :\n",
    "                z.append(j)\n",
    "        elif type (i) == tuple :\n",
    "            for j in i :\n",
    "                z.append(j)\n",
    "        elif type (i) == set :\n",
    "            for j in i :\n",
    "                z.append(j)\n",
    "        elif type (i) == dict :\n",
    "            for j in i.values():\n",
    "                z.append(j)\n",
    "        elif type (i) == str :\n",
    "            z.append(i)\n",
    "        elif type (i) == complex :\n",
    "            z.append(i.real)\n",
    "        return z\n"
   ]
  },
  {
   "cell_type": "code",
   "execution_count": 16,
   "metadata": {},
   "outputs": [
    {
     "data": {
      "text/plain": [
       "[1, 2, 3, 4, 5, 6, 7, 8, 9, 11, 12, 13, 14, 'kaml', 4.0, 1]"
      ]
     },
     "execution_count": 16,
     "metadata": {},
     "output_type": "execute_result"
    }
   ],
   "source": [
    "get_input()"
   ]
  },
  {
   "cell_type": "code",
   "execution_count": 18,
   "metadata": {},
   "outputs": [],
   "source": [
    "# issue with def fucntion :\n",
    "def get_input() :\n",
    "\n",
    "    z = []\n",
    "    l = input()\n",
    "    test1 = dict(l)\n",
    "\n",
    "    for i in test1.values() :\n",
    "        if type (i) == int :\n",
    "            z.append(i)\n",
    "        elif type (i) == list :\n",
    "            for j in i :\n",
    "                z.append(j)\n",
    "        elif type (i) == tuple :\n",
    "            for j in i :\n",
    "                z.append(j)\n",
    "        elif type (i) == set :\n",
    "            for j in i :\n",
    "                z.append(j)\n",
    "        elif type (i) == dict :\n",
    "            for j in i.values():\n",
    "                z.append(j)\n",
    "        elif type (i) == str :\n",
    "            z.append(i)\n",
    "        elif type (i) == complex :\n",
    "            z.append(i.real)\n",
    "        return z\n",
    "\n"
   ]
  },
  {
   "cell_type": "code",
   "execution_count": 19,
   "metadata": {},
   "outputs": [
    {
     "name": "stdout",
     "output_type": "stream",
     "text": [
      "{\"key1\" : 1, \"key2\":{\"a\" : 2, \"b\" : 3}}\n"
     ]
    },
    {
     "ename": "ValueError",
     "evalue": "dictionary update sequence element #0 has length 1; 2 is required",
     "output_type": "error",
     "traceback": [
      "\u001b[1;31m---------------------------------------------------------------------------\u001b[0m",
      "\u001b[1;31mValueError\u001b[0m                                Traceback (most recent call last)",
      "\u001b[1;32m<ipython-input-19-7a12e05f1477>\u001b[0m in \u001b[0;36m<module>\u001b[1;34m\u001b[0m\n\u001b[1;32m----> 1\u001b[1;33m \u001b[0mget_input\u001b[0m\u001b[1;33m(\u001b[0m\u001b[1;33m)\u001b[0m\u001b[1;33m\u001b[0m\u001b[1;33m\u001b[0m\u001b[0m\n\u001b[0m",
      "\u001b[1;32m<ipython-input-18-86a4741ce494>\u001b[0m in \u001b[0;36mget_input\u001b[1;34m()\u001b[0m\n\u001b[0;32m      4\u001b[0m     \u001b[0mz\u001b[0m \u001b[1;33m=\u001b[0m \u001b[1;33m[\u001b[0m\u001b[1;33m]\u001b[0m\u001b[1;33m\u001b[0m\u001b[1;33m\u001b[0m\u001b[0m\n\u001b[0;32m      5\u001b[0m     \u001b[0ml\u001b[0m \u001b[1;33m=\u001b[0m \u001b[0minput\u001b[0m\u001b[1;33m(\u001b[0m\u001b[1;33m)\u001b[0m\u001b[1;33m\u001b[0m\u001b[1;33m\u001b[0m\u001b[0m\n\u001b[1;32m----> 6\u001b[1;33m     \u001b[0mtest1\u001b[0m \u001b[1;33m=\u001b[0m \u001b[0mdict\u001b[0m\u001b[1;33m(\u001b[0m\u001b[0ml\u001b[0m\u001b[1;33m)\u001b[0m\u001b[1;33m\u001b[0m\u001b[1;33m\u001b[0m\u001b[0m\n\u001b[0m\u001b[0;32m      7\u001b[0m \u001b[1;33m\u001b[0m\u001b[0m\n\u001b[0;32m      8\u001b[0m     \u001b[1;32mfor\u001b[0m \u001b[0mi\u001b[0m \u001b[1;32min\u001b[0m \u001b[0mtest1\u001b[0m\u001b[1;33m.\u001b[0m\u001b[0mvalues\u001b[0m\u001b[1;33m(\u001b[0m\u001b[1;33m)\u001b[0m \u001b[1;33m:\u001b[0m\u001b[1;33m\u001b[0m\u001b[1;33m\u001b[0m\u001b[0m\n",
      "\u001b[1;31mValueError\u001b[0m: dictionary update sequence element #0 has length 1; 2 is required"
     ]
    }
   ],
   "source": [
    "get_input()"
   ]
  },
  {
   "cell_type": "code",
   "execution_count": 1,
   "metadata": {},
   "outputs": [
    {
     "name": "stdout",
     "output_type": "stream",
     "text": [
      "pls enter your nameKamlesh Bind\n",
      "KAMLESH BIND\n",
      "pls enter your nameKamlesh Bind\n",
      "kamlesh bind\n"
     ]
    }
   ],
   "source": [
    "# Q 4 . write a fun which will take another function as an input and return me an output \n",
    "\n",
    "\n",
    "def up_case(text) :\n",
    "    return text.upper()\n",
    "\n",
    "def lower_case(text) :\n",
    "    return text.lower()\n",
    "\n",
    "def greet(func) :\n",
    "    i = input(\"pls enter your name\")\n",
    "    greeting = func(i)\n",
    "    print (greeting)\n",
    "    \n",
    "greet(up_case)\n",
    "greet(lower_case)"
   ]
  },
  {
   "cell_type": "code",
   "execution_count": 2,
   "metadata": {},
   "outputs": [
    {
     "name": "stdout",
     "output_type": "stream",
     "text": [
      "pls enter count of list 3\n",
      "01 2 3\n",
      "14 5 6\n",
      "27 8 9\n",
      "['1', ' ', '2', ' ', '3', '4', ' ', '5', ' ', '6', '7', ' ', '8', ' ', '9']\n"
     ]
    }
   ],
   "source": [
    "# Q 5. write a function whihc will take multiple list as a input and give me concatnation of all the element as \n",
    "and output \n",
    "\n",
    "\n",
    "def list_input () :\n",
    "    n = int(input(\"pls enter count of list \"))\n",
    "    a = []\n",
    "\n",
    "    for i in range(0,n) :\n",
    "        b = list(input(i))\n",
    "        a.extend(b)\n",
    "    \n",
    "    print(a) \n",
    "\n",
    "\n",
    "list_input ()"
   ]
  },
  {
   "cell_type": "code",
   "execution_count": null,
   "metadata": {},
   "outputs": [],
   "source": []
  },
  {
   "cell_type": "code",
   "execution_count": 5,
   "metadata": {},
   "outputs": [
    {
     "name": "stdout",
     "output_type": "stream",
     "text": [
      "enter no of element5\n",
      "1\n",
      "2\n",
      "3\n",
      "3\n",
      "4\n",
      "index of list element  :  1 is  0\n",
      "index of list element  :  2 is  1\n",
      "index of list element  :  3 is  2\n",
      "index of list element  :  3 is  3\n",
      "index of list element  :  4 is  4\n"
     ]
    }
   ],
   "source": [
    "# Q 6 . write a function which will be able to take a list as an input,  return an index of each element \n",
    "# like a inbuilt index function but even if we have repetative element it should return index \n",
    "\n",
    "\n",
    "def get_list() :\n",
    "        n = int(input(\"enter no of element\" ))\n",
    "\n",
    "        lst = []\n",
    "\n",
    "        for i in range (0,n) :\n",
    "            a = input()\n",
    "            lst.append(a)\n",
    "\n",
    "        for j in range(0,len(lst)) :\n",
    "                       print(\"index of list element  : \",lst[j], \"is \" ,   j)\n",
    "\n",
    "get_list()"
   ]
  },
  {
   "cell_type": "code",
   "execution_count": 8,
   "metadata": {},
   "outputs": [
    {
     "name": "stdout",
     "output_type": "stream",
     "text": [
      "enter directory pathF:\\Tableau working\n",
      "Data_Rank.xlsx\n",
      "Global Superstore_.xls\n",
      "MTD_QTD_YTD Table.xlsx\n"
     ]
    }
   ],
   "source": [
    "# Q 7 . Write a function which will would return list of all the file name from a directory .\n",
    "\n",
    "path = []\n",
    "\n",
    "import os\n",
    "def directory_files(path):\n",
    "   \n",
    "    path = input(\"enter directory path\")   #Read files in folder\n",
    "    for f in os.listdir(path):\n",
    "        if os.path.isfile(os.path.join(path, f)):\n",
    "            print(f)\n",
    "\n",
    "\n",
    "directory_files(path)"
   ]
  },
  {
   "cell_type": "code",
   "execution_count": 17,
   "metadata": {},
   "outputs": [
    {
     "name": "stdout",
     "output_type": "stream",
     "text": [
      "enter directory pathF:\\Tableau working\n",
      "1 Data_Rank.xlsx\n",
      "2 Global Superstore_.xls\n",
      "3 MTD_QTD_YTD Table.xlsx\n"
     ]
    },
    {
     "data": {
      "text/plain": [
       "3"
      ]
     },
     "execution_count": 17,
     "metadata": {},
     "output_type": "execute_result"
    }
   ],
   "source": [
    "path = []\n",
    "\n",
    "import os\n",
    "def directory_files(path):\n",
    "   \n",
    "    count = 0        #Counts the number of files in a directory\n",
    "\n",
    "    path = input(\"enter directory path\")   #Read files in folder\n",
    "    for f in os.listdir(path):\n",
    "        if os.path.isfile(os.path.join(path, f)):\n",
    "            count += 1\n",
    "            print(count, f)\n",
    "    return count\n",
    "\n",
    "directory_files(path)"
   ]
  },
  {
   "cell_type": "code",
   "execution_count": 19,
   "metadata": {},
   "outputs": [
    {
     "name": "stdout",
     "output_type": "stream",
     "text": [
      "enter directory pathF:\\sample DatabaseSQL\n",
      "1 MYSQLSAKILA DEMO.docx\n",
      "2 sakila lesson.pdf\n"
     ]
    },
    {
     "data": {
      "text/plain": [
       "2"
      ]
     },
     "execution_count": 19,
     "metadata": {},
     "output_type": "execute_result"
    }
   ],
   "source": [
    "path = []\n",
    "\n",
    "import os\n",
    "def directory_files(path):\n",
    "   \n",
    "    count = 0        #Counts the number of files in a directory\n",
    "\n",
    "    path = input(\"enter directory path\")   #Read files in folder\n",
    "    for f in os.listdir(path):\n",
    "        if os.path.isfile(os.path.join(path, f)):\n",
    "            count += 1\n",
    "            print(count, f)\n",
    "    return count\n",
    "\n",
    "directory_files(path)"
   ]
  },
  {
   "cell_type": "code",
   "execution_count": 20,
   "metadata": {},
   "outputs": [
    {
     "name": "stdout",
     "output_type": "stream",
     "text": [
      "System: Windows\n",
      "Node Name: LAPTOP-6GE96KR1\n",
      "Release: 10\n",
      "Version: 10.0.19041\n",
      "Machine: AMD64\n",
      "Processor: Intel64 Family 6 Model 122 Stepping 1, GenuineIntel\n"
     ]
    }
   ],
   "source": [
    "# Q 8. write a function which will be able to show your system configuration. \n",
    "\n",
    "\n",
    "import platform\n",
    " \n",
    "my_system = platform.uname()\n",
    " \n",
    "print(f\"System: {my_system.system}\")\n",
    "print(f\"Node Name: {my_system.node}\")\n",
    "print(f\"Release: {my_system.release}\")\n",
    "print(f\"Version: {my_system.version}\")\n",
    "print(f\"Machine: {my_system.machine}\")\n",
    "print(f\"Processor: {my_system.processor}\")"
   ]
  },
  {
   "cell_type": "code",
   "execution_count": 21,
   "metadata": {},
   "outputs": [
    {
     "name": "stdout",
     "output_type": "stream",
     "text": [
      "Time now at greenwich meridian is : 2022-01-01 16:20:01.333579\n"
     ]
    }
   ],
   "source": [
    "# Q 9. write a function which will be able to show date and time . \n",
    "\n",
    "\n",
    "# importing datetime module for now() \n",
    "import datetime \n",
    "    \n",
    "# using now() to get current time \n",
    "current_time = datetime.datetime.now() \n",
    "    \n",
    "# Printing value of now. \n",
    "print (\"Time now at greenwich meridian is : \"\n",
    "                                    , end = \"\") \n",
    "print (current_time) "
   ]
  },
  {
   "cell_type": "raw",
   "metadata": {},
   "source": [
    "#10 . write a function whihc will be able to read a image file and show it to you."
   ]
  },
  {
   "cell_type": "code",
   "execution_count": null,
   "metadata": {},
   "outputs": [],
   "source": []
  }
 ],
 "metadata": {
  "kernelspec": {
   "display_name": "Python 3",
   "language": "python",
   "name": "python3"
  },
  "language_info": {
   "codemirror_mode": {
    "name": "ipython",
    "version": 3
   },
   "file_extension": ".py",
   "mimetype": "text/x-python",
   "name": "python",
   "nbconvert_exporter": "python",
   "pygments_lexer": "ipython3",
   "version": "3.7.6"
  }
 },
 "nbformat": 4,
 "nbformat_minor": 4
}
