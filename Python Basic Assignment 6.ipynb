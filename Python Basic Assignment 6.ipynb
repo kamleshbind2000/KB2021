{
 "cells": [
  {
   "cell_type": "markdown",
   "metadata": {},
   "source": [
    "# 1. What are escape characters, and how do you use them?\n",
    "\n",
    "Sol: To insert characters that are illegal in a string, use an escape character.\n",
    "\n",
    "An escape character is a backslash \\ followed by the character you want to insert.\n",
    "\n",
    "An example of an illegal character is a double quote inside a string that is surrounded by double quotes.\n",
    "You will get an error if you use double quotes inside a string that is surrounded by double quotes:\n",
    "    \n",
    "    txt = \"We are the so-called \"Vikings\" from the north.\"    >> Error\n",
    "    \n",
    "    \n",
    " To fix this problem, use the escape character \\\":\n",
    " txt = \"We are the so-called \\\"Vikings\\\" from the north.\"  >> \"We are the so-called \\\"Vikings\\\" from the north.\"  \n",
    " "
   ]
  },
  {
   "cell_type": "markdown",
   "metadata": {},
   "source": [
    "# 2. What do the escape characters n and t stand for?\n",
    "\n",
    "    Sol :  n -   New line \n",
    "           t -   Tab \n",
    "           \n",
    "         e.g \n",
    "          1. txt = \"Hello\\nWorld!\"\n",
    "             print(txt)              >>>>>>>>>>>>>> Hello\n",
    "                                                    World\n",
    "                                                    \n",
    "                                                    \n",
    "           2. txt = \"Hello\\tWorld!\"\n",
    "              print(txt)            >>>>>>>>>>>>>>  Hello   World\n",
    "              "
   ]
  },
  {
   "cell_type": "markdown",
   "metadata": {},
   "source": [
    "# 3. What is the way to include backslash characters in a string?\n",
    "\n",
    "  Sol :   \n",
    "\n",
    "      txt = \"This will insert one \\\\ (backslash).\"\n",
    "      print(txt) \n",
    "      \n",
    " Output :  This will insert one \\ (backslash)"
   ]
  },
  {
   "cell_type": "markdown",
   "metadata": {},
   "source": [
    "# 4. The string \"Howl's Moving Castle\"  is a correct value. Why isn't the single quote character in the word Howl's not escaped a problem?\n",
    "\n",
    "Sol : The single quote in Howl's is fine because you've used double quotes to mark the beginning and end of the string.\n"
   ]
  },
  {
   "cell_type": "markdown",
   "metadata": {},
   "source": [
    "# 5. How do you write a string of newlines if you don't want to use the n character?\n",
    "\n",
    "  Sol : You can print strings without adding a new line with end = <character>, which <character> is the character that will be used to separate the lines."
   ]
  },
  {
   "cell_type": "markdown",
   "metadata": {},
   "source": [
    "# 6. What are the values of the given expressions?\n",
    "\n",
    "Sol :   \n",
    "    1. 'Hello, world!'[1]      o/p :   'e'\n",
    "    2. 'Hello, world!'[0:5]    o/p : 'Hello'\n",
    "    3. 'Hello, world!'[:5]     o/p : 'Hello'\n",
    "    4. 'Hello, world!'[3:]     0/p : 'lo, world!'\n",
    "\n"
   ]
  },
  {
   "cell_type": "markdown",
   "metadata": {},
   "source": [
    "# 7. What are the values of the following expressions?\n",
    "\n",
    "Sol : \n",
    "\n",
    "    1.  'Hello'.upper()            o/p :  'HELLO'\n",
    "    2. 'Hello'.upper().isupper()   o/p :  True\n",
    "    3.  'Hello'.upper().lower()    o/p : 'hello'"
   ]
  },
  {
   "cell_type": "markdown",
   "metadata": {},
   "source": [
    "# 8. What are the values of the following expressions?\n",
    "\n",
    "Sol : \n",
    "    1. 'Remember, remember, the fifth of July'.split()   o/p : ['Remember,', 'remember,', 'the', 'fifth', 'of', 'July']    \n",
    "    2. '-'.join('There can only one.'.split())           o/p : 'There-can-only-one.'\n",
    "    "
   ]
  },
  {
   "cell_type": "markdown",
   "metadata": {},
   "source": [
    "# 9. What are the methods for right-justifying, left-justifying, and centering a string?\n",
    "\n",
    "Sol : Python String | ljust(), rjust(), center()\n",
    "     These functions respectively left-justify, right-justify and center a string in a field of given width.\n"
   ]
  },
  {
   "cell_type": "markdown",
   "metadata": {},
   "source": [
    "# 10. What is the best way to remove whitespace characters from the start or end?\n",
    "\n",
    "Sol : The Python String strip() method is part of the built-in function available in python. The function will remove given characters from the start and end of the original string. This function is very helpful in removing the whitespaces at the start and end of the given string.  txt.strip()  \n",
    "    Also, for left and right strip, we use\n",
    "     1.  txt.rstrip()  :  for right strip of blank space\n",
    "     2.  txt.lstrip()  :  for left strip of blank space\n"
   ]
  }
 ],
 "metadata": {
  "kernelspec": {
   "display_name": "Python 3",
   "language": "python",
   "name": "python3"
  },
  "language_info": {
   "codemirror_mode": {
    "name": "ipython",
    "version": 3
   },
   "file_extension": ".py",
   "mimetype": "text/x-python",
   "name": "python",
   "nbconvert_exporter": "python",
   "pygments_lexer": "ipython3",
   "version": "3.7.6"
  }
 },
 "nbformat": 4,
 "nbformat_minor": 4
}
