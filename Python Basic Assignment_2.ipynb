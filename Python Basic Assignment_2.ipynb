{
 "cells": [
  {
   "cell_type": "raw",
   "metadata": {},
   "source": [
    "1.What are the two values of the Boolean data type? How do you write them?\n",
    "\n",
    "Solution : The two values of Boolean data type are True and False.  \n",
    "           Print (bool(\"abc\")) >>>> True\n",
    "           Print (bool(123) >>> True           \n"
   ]
  },
  {
   "cell_type": "raw",
   "metadata": {},
   "source": [
    "2. What are the three different types of Boolean operators?\n",
    "\n",
    "Solution : The three different types of Boolean operators are - and , or , and not.\n",
    "         "
   ]
  },
  {
   "cell_type": "raw",
   "metadata": {},
   "source": [
    "3. Make a list of each Boolean operator's truth tables (i.e. every possible combination of Boolean values \n",
    "   for the operator and what it evaluate ).\n",
    "   \n",
    " Solution : \n",
    " \n",
    "         and\n",
    "True and True = True\n",
    "True and False = False\n",
    "False and True = False\n",
    "False and False = False\n",
    "\n",
    "or\n",
    "True or True = True\n",
    "True or False = True\n",
    "False or True = True\n",
    "False or False = False\n",
    "\n",
    "not\n",
    "not True = False\n",
    "not False = True"
   ]
  },
  {
   "cell_type": "raw",
   "metadata": {},
   "source": [
    "4. What are the values of the following expressions?\n",
    "\n",
    "Solution : \n",
    "          a.  (5 > 4) and (3 == 5)                 =  False\n",
    "          b.   not (5 > 4)                         =  False\n",
    "          c.  (5 > 4) or (3 == 5)                  =  True\n",
    "          d.  not ((5 > 4) or (3 == 5))            = False\n",
    "          e.  (True and True) and (True == False)  = False\n",
    "          f.  (not False) or (not True)            = True\n"
   ]
  },
  {
   "cell_type": "raw",
   "metadata": {},
   "source": [
    "5. What are the six comparison operators?\n",
    "\n",
    "Solution : The six comparison operators are :\n",
    "              Operator           Name                e.g \n",
    "            i.     ==            Equal             x == y\n",
    "            ii.    !=            Not equal         x != y\n",
    "            iii.    >           Greater than       x > y\n",
    "            iv.    <            Less than          x < y\n",
    "            v.     >=    Greater than or equal to  x >= y\n",
    "            vi.    <=      less than or equal to   x <= y\n",
    "    "
   ]
  },
  {
   "cell_type": "raw",
   "metadata": {},
   "source": [
    "6. How do you tell the difference between the equal to and assignment operators?Describe a \n",
    "     condition and when you would use one.\n",
    "     \n",
    "Solution :\n",
    "          a.  == Equal to  is a comparison operator.   It is use to compare two variables . x==y \n",
    "          b. Assigment operator like :  = , +=, -= .  It is use to assign a value to a variable .  x = 10"
   ]
  },
  {
   "cell_type": "raw",
   "metadata": {},
   "source": [
    "7. Identify the three blocks in this code:\n",
    "spam = 0\n",
    "if spam == 10:\n",
    "print('eggs')\n",
    "if spam > 5:\n",
    "print('bacon')\n",
    "else:\n",
    "print('ham')\n",
    "print('spam')\n",
    "print('spam')\n",
    "\n",
    "\n",
    "Solution :\n",
    "    \n",
    "    spam = 0\n",
    "\n",
    "if spam == 10:           # 1st Block\n",
    "    print('eggs')\n",
    "if spam > 5:             # 2nd Block\n",
    "    print('bacon')\n",
    "else:                    # 3rd Block\n",
    "    print('ham')\n",
    "    print('spam')\n",
    "    print('spam')"
   ]
  },
  {
   "cell_type": "raw",
   "metadata": {},
   "source": [
    "8. Write code that prints Hello if 1 is stored in spam, prints Howdy if 2 is stored in spam, \n",
    "   and prints Greetings! if anything else is stored in spam.\n",
    "   \n",
    "Solution :\n",
    "\n",
    "spam = int(input())\n",
    "\n",
    "if spam == 1 :\n",
    "    print(\"Hello\")\n",
    "elif spam == 2 :\n",
    "    print(\"Howdy\")\n",
    "else :\n",
    "    print(\"Greetings!\")"
   ]
  },
  {
   "cell_type": "raw",
   "metadata": {},
   "source": [
    "9.If your programme is stuck in an endless loop, what keys you’ll press?\n",
    "\n",
    "Solution :  a.  Kernel + Interrupt \n",
    "            b.  Stop button ( interrupt the kernel)"
   ]
  },
  {
   "cell_type": "raw",
   "metadata": {},
   "source": [
    "10. How can you tell the difference between break and continue?\n",
    "\n",
    "Solution :    \n",
    "    a. Break : The break statement stops the loop in which the statement is placed. \n",
    "    b. Continue : A Python continue statement skips a single iteration in a loop. The continue statement allows you to skip                   part of a loop when a condition is met\n",
    "    \n",
    "    A break ends the execution to the end of the loop and continue moves the execution to the start of the loop.Both break and continue statements can be used in a for or a while loop. "
   ]
  },
  {
   "cell_type": "raw",
   "metadata": {},
   "source": [
    "11. In a for loop, what is the difference between range(10), range(0, 10), and range(0, 10, 1)?\n",
    "\n",
    "Solution :\n",
    "    range(10) = defines range upto 10\n",
    "    range(0, 10) = defines the range as between 0 and 10.\n",
    "    range(0, 10, 1) defines the range as between 0 and 10 with steps of 1.\n",
    "   \n",
    "             "
   ]
  },
  {
   "cell_type": "raw",
   "metadata": {},
   "source": [
    "12. Write a short program that prints the numbers 1 to 10 using a for loop. \n",
    "    Then write an equivalent program that prints the numbers 1 to 10 using a while loop.\n",
    "    \n",
    "Solution :\n",
    "\n",
    "    a.     for loop\n",
    "        \n",
    "        for i in range(1,11):\n",
    "                  print(i)\n",
    "     \n",
    "     \n",
    "    b.    While loop\n",
    "    \n",
    "            i = 1\n",
    "          \n",
    "          while i<11 :\n",
    "               print(i)\n",
    "               i = i+1"
   ]
  },
  {
   "cell_type": "raw",
   "metadata": {},
   "source": [
    "13. If you had a function named bacon() inside a module named spam, how would you call it after importing spam?\n",
    "\n",
    "Solution : \n",
    "          Step 1 :   import spam\n",
    "          Step 2 :   spam.bacon()\n",
    "    "
   ]
  }
 ],
 "metadata": {
  "kernelspec": {
   "display_name": "Python 3",
   "language": "python",
   "name": "python3"
  },
  "language_info": {
   "codemirror_mode": {
    "name": "ipython",
    "version": 3
   },
   "file_extension": ".py",
   "mimetype": "text/x-python",
   "name": "python",
   "nbconvert_exporter": "python",
   "pygments_lexer": "ipython3",
   "version": "3.7.6"
  }
 },
 "nbformat": 4,
 "nbformat_minor": 4
}
