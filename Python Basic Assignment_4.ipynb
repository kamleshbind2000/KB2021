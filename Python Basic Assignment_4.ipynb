{
 "cells": [
  {
   "cell_type": "raw",
   "metadata": {},
   "source": [
    "1. What exactly is []?\n",
    "\n",
    "Solution :  [] is a empty list. The empty list value, which is a list value that contains no items. This is similar to how '' is the empty string value.\n"
   ]
  },
  {
   "cell_type": "raw",
   "metadata": {},
   "source": [
    "2. In a list of values stored in a variable called spam, how would you assign the value 'hello' as the third value? \n",
    "(Assume [2, 4, 6, 8, 10] are in spam.)\n",
    "\n",
    "Solution :spam[2] = \"hello\"\n",
    "\n",
    "\n",
    "spam = [2, 4, 6, 8, 10]\n",
    "spam[2] = \"hello\"                # third value is at 2nd index\n",
    "\n",
    ">> spam \n",
    "   [2, 4, 'hello', 8, 10]        # 6 is replaced by 'hello'\n"
   ]
  },
  {
   "cell_type": "raw",
   "metadata": {},
   "source": [
    "# Let's pretend the spam includes the list ['a', 'b', 'c', 'd'] for the next three queries."
   ]
  },
  {
   "cell_type": "raw",
   "metadata": {},
   "source": [
    "3. What is the value of spam[int(int('3' * 2) / 11)]?\n",
    "\n",
    "Solution : 'd'\n",
    "    \n",
    "working : \n",
    "    \n",
    "    int('3' * 2)  >>> 33\n",
    "    \n",
    "    int('3' * 2) / 11 >>> 3.0\n",
    "    \n",
    "    There for , spam[int(int('3' * 2) / 11)]   >>>   spam[3]   >>>   'd'\n",
    "    "
   ]
  },
  {
   "cell_type": "raw",
   "metadata": {},
   "source": [
    "4. What is the value of spam[-1]?\n",
    "\n",
    "Solution : 'd'     # (Negative indexes count from the end.)\n"
   ]
  },
  {
   "cell_type": "raw",
   "metadata": {},
   "source": [
    "5. What is the value of spam[:2]?\n",
    "\n",
    "Solution : ['a', 'b']\n"
   ]
  },
  {
   "cell_type": "raw",
   "metadata": {},
   "source": [
    "# Let's pretend bacon has the list [3.14, 'cat',11, 'cat', True] for the next three questions."
   ]
  },
  {
   "cell_type": "raw",
   "metadata": {},
   "source": [
    "6. What is the value of bacon.index('cat')?\n",
    "\n",
    "Solution : 1\n"
   ]
  },
  {
   "cell_type": "raw",
   "metadata": {},
   "source": [
    "7. How does bacon.append(99) change the look of the list value in bacon?\n",
    "\n",
    "Solution :  [3.14, 'cat',11, 'cat', True, 99]      # .append add the value to the end of the list\n"
   ]
  },
  {
   "cell_type": "raw",
   "metadata": {},
   "source": [
    "8. How does bacon.remove('cat') change the look of the list in bacon?\n",
    "\n",
    "Solution : [3.14, 11, 'cat', True, 99]      #removes only the first occarance of value  \"cat\" from the list\n"
   ]
  },
  {
   "cell_type": "raw",
   "metadata": {},
   "source": [
    "9. What are the list concatenation and list replication operators?\n",
    "\n",
    "Solution : The operator for list concatenation is +, while the operator for replication is * (This is the same as for strings.)\n",
    "\n",
    "e.g : \n",
    "\n",
    "1. [3.14, 11, 'cat', True, 99] + [2, 4, 6, 8, 10]  >>>  [3.14, 11, 'cat', True, 99, 2, 4, 6, 8, 10]\n",
    "\n",
    "2. [3.14, 11, 'cat', True, 99] * 2   >>>  [3.14, 11, 'cat', True, 99, 3.14, 11, 'cat', True, 99]\n"
   ]
  },
  {
   "cell_type": "raw",
   "metadata": {},
   "source": [
    "10. What is difference between the list methods append() and insert()?\n",
    "\n",
    "Solution : While append() will add values only to the end of a list, insert() can add them anywhere in the list.\n",
    "\n",
    "e.g :\n",
    "\n",
    "1. bacon = [3.14, 'cat',11, 'cat', True]\n",
    "   bacon.append(99)\n",
    "   \n",
    "   bacon >>>  [3.14, 'cat', 11, 'cat', True, 99]         #99 is added at the end of the list\n",
    "   \n",
    "   \n",
    "2. bacon = [3.14, 'cat',11, 'cat', True]\n",
    "   bacon.insert(1,99)                        # inserting 99 at index value 1, i.e at 2nd location from the start\n",
    "   \n",
    "   bacon >>>  [3.14, 99, 'cat', 11, 'cat', True]\n"
   ]
  },
  {
   "cell_type": "raw",
   "metadata": {},
   "source": [
    "11. What are the two methods for removing items from a list?\n",
    "\n",
    "Solution : The del statement and the remove() list method are two ways to remove values from a list.\n",
    "\n",
    "e.g :\n",
    "\n",
    "1. bacon = [3.14, 'cat',11, 'cat', True]\n",
    "   del bacon[2]                              # removes value with index no. 2 , i.e the 3rd element  - 11.\n",
    "   \n",
    "   bacon >>> [3.14, 'cat', 'cat', True]\n",
    "   \n",
    " \n",
    "2. bacon = [3.14, 'cat',11, 'cat', True]\n",
    "   bacon.remove(11)\n",
    "   \n",
    "   bacon >>> [3.14, 'cat', 'cat', True]       # removes value 11 from the list\n",
    "   "
   ]
  },
  {
   "cell_type": "raw",
   "metadata": {},
   "source": [
    "12. Describe how list values and string values are identical.\n",
    "\n",
    "Solution : Both lists and strings can be passed to len(), have indexes and slices, be used in for loops, be concatenated or replicated, and be used with the in and not in operators.\n"
   ]
  },
  {
   "cell_type": "raw",
   "metadata": {},
   "source": [
    "13. What's the difference between tuples and lists?\n",
    "\n",
    "Sulution : Lists are mutable; they can have values added, removed, or changed. Tuples are immutable; they cannot be changed at all. Also, tuples are written using parentheses (), while lists use the square brackets [].\n"
   ]
  },
  {
   "cell_type": "raw",
   "metadata": {},
   "source": [
    "14. How do you type a tuple value that only contains the integer 42?\n",
    "\n",
    "Solution : (42,)  ..... The trailing comma is mandatory.)\n",
    "\n",
    "e.g   t = (42,)\n",
    "      type (t) >>> tuple"
   ]
  },
  {
   "cell_type": "raw",
   "metadata": {},
   "source": [
    "15. How do you get a list value's tuple form? How do you get a tuple value's list form?\n",
    "\n",
    "Solution : \n",
    "\n",
    "i.  list value's tuple form   :  tuple(list_name)\n",
    "ii. tuple value's list form   :  list[tuple_name]\n",
    "\n",
    "\n",
    "e.g\n",
    "\n",
    "a_tuple = (1,2,3,4)\n",
    "b_list  = [1,2,3,4]\n",
    "\n",
    "i.  tuple(b_list) >>> (1, 2, 3, 4)\n",
    "ii. list(a_tuple) >>> [1, 2, 3, 4]\n"
   ]
  },
  {
   "cell_type": "raw",
   "metadata": {},
   "source": [
    "16. Variables that \"contain\" list values are not necessarily lists themselves. Instead, what do they contain?\n",
    "\n",
    "Solution : They contain references to list values.\n",
    "\n",
    "Variables will contain references to list values rather than list values themselves. But for strings and integer values, variables simply contain the string or integer value.\n"
   ]
  },
  {
   "cell_type": "raw",
   "metadata": {},
   "source": [
    "17. How do you distinguish between copy.copy() and copy.deepcopy()?\n",
    "\n",
    "Solution : The copy.copy() function will do a shallow copy of a list, while the copy.deepcopy() function will do a deep copy of a list. That is, only copy.deepcopy() will duplicate any lists inside the list.\n"
   ]
  }
 ],
 "metadata": {
  "kernelspec": {
   "display_name": "Python 3",
   "language": "python",
   "name": "python3"
  },
  "language_info": {
   "codemirror_mode": {
    "name": "ipython",
    "version": 3
   },
   "file_extension": ".py",
   "mimetype": "text/x-python",
   "name": "python",
   "nbconvert_exporter": "python",
   "pygments_lexer": "ipython3",
   "version": "3.7.6"
  }
 },
 "nbformat": 4,
 "nbformat_minor": 4
}
